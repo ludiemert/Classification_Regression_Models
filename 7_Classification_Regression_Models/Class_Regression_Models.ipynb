{
 "cells": [
  {
   "cell_type": "code",
   "execution_count": null,
   "id": "76d06992-f058-44f2-9e4f-e937cc594a46",
   "metadata": {},
   "outputs": [],
   "source": [
    "# 1_Conj_Date_MNIST => numeros escritos a mao => encontrar algum algortimo que consiga prever qual numero eh qual da melhor \n",
    "# forma possivel\n",
    "# exemplo de algortimo de classificacao => desbloq de tela do celular reconhecimento facial"
   ]
  },
  {
   "cell_type": "code",
   "execution_count": 2,
   "id": "ac870b93-fe53-4f19-a675-5c1ac61eaa07",
   "metadata": {},
   "outputs": [],
   "source": [
    "# Import 4 lib \n",
    "import matplotlib.pyplot as plt # cria visualizacao de dados\n",
    "import seaborn as sns\n",
    "import numpy as np # lib de analise de dados\n",
    "import pandas as pd # lib de analise de dados\n",
    "\n",
    "# lib de Machine learn \n",
    "# datasets => faz import de conj de dados pre feitos\n",
    "from sklearn.datasets import fetch_openml"
   ]
  },
  {
   "cell_type": "code",
   "execution_count": null,
   "id": "53574ff7-2cfe-4f00-912f-92ff191e4fe4",
   "metadata": {},
   "outputs": [],
   "source": [
    "# cria uma variavel\n"
   ]
  }
 ],
 "metadata": {
  "kernelspec": {
   "display_name": "Python 3 (ipykernel)",
   "language": "python",
   "name": "python3"
  },
  "language_info": {
   "codemirror_mode": {
    "name": "ipython",
    "version": 3
   },
   "file_extension": ".py",
   "mimetype": "text/x-python",
   "name": "python",
   "nbconvert_exporter": "python",
   "pygments_lexer": "ipython3",
   "version": "3.13.0"
  }
 },
 "nbformat": 4,
 "nbformat_minor": 5
}
